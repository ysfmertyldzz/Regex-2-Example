{
 "cells": [
  {
   "cell_type": "code",
   "execution_count": 2,
   "metadata": {},
   "outputs": [
    {
     "name": "stdout",
     "output_type": "stream",
     "text": [
      "['Amy', 'Mary', 'Ruth', 'Peter']\n"
     ]
    },
    {
     "data": {
      "text/plain": [
       "['Bell Kassulke',\n",
       " 'Simon Loidl',\n",
       " 'Elias Jovanovic',\n",
       " 'Hakim Botros',\n",
       " 'Emilie Lorentsen',\n",
       " 'Jake Wood',\n",
       " 'Fatemeh Akhtar',\n",
       " 'Kim Weston',\n",
       " 'Yasmin Dar',\n",
       " 'Viswamitra Upandhye',\n",
       " 'Killian Kaufman',\n",
       " 'Elwood Page',\n",
       " 'Elodie Booker',\n",
       " 'Adnan Chen',\n",
       " 'Hank Spinka',\n",
       " 'Hannah Bayer']"
      ]
     },
     "execution_count": 2,
     "metadata": {},
     "output_type": "execute_result"
    }
   ],
   "source": [
    "import re\n",
    "\n",
    "###Lisite of names in the text\n",
    "def names():\n",
    "    simple_string = \"\"\"Amy is 5 years old, and her sister Mary is 2 years old. \n",
    "    Ruth and Peter, their parents, have 3 kids.\"\"\"\n",
    "    \n",
    "    pattern = \"[A-Z][a-z]*\"\n",
    "    \n",
    "    return re.findall(pattern,simple_string)\n",
    "\n",
    "print(names())\n",
    "###\n",
    "\n",
    "\n",
    "####List of names of students who received a B\n",
    "grade = \"\"\"\n",
    "Ronald Mayr: A\n",
    "Bell Kassulke: B\n",
    "Jacqueline Rupp: A \n",
    "Alexander Zeller: C\n",
    "Valentina Denk: C \n",
    "Simon Loidl: B \n",
    "Elias Jovanovic: B \n",
    "Stefanie Weninger: A \n",
    "Fabian Peer: C \n",
    "Hakim Botros: B\n",
    "Emilie Lorentsen: B\n",
    "Herman Karlsen: C\n",
    "Nathalie Delacruz: C\n",
    "Casey Hartman: C\n",
    "Lily Walker : A\n",
    "Gerard Wang: C\n",
    "Tony Mcdowell: C\n",
    "Jake Wood: B\n",
    "Fatemeh Akhtar: B\n",
    "Kim Weston: B\n",
    "Nicholas Beatty: A\n",
    "Kirsten Williams: C\n",
    "Vaishali Surana: C\n",
    "Coby Mccormack: C\n",
    "Yasmin Dar: B\n",
    "Romy Donnelly: A\n",
    "Viswamitra Upandhye: B\n",
    "Kendrick Hilpert: A\n",
    "Killian Kaufman: B\n",
    "Elwood Page: B\n",
    "Mukti Patel: A\n",
    "Emily Lesch: C\n",
    "Elodie Booker: B\n",
    "Jedd Kim: A\n",
    "Annabel Davies: A\n",
    "Adnan Chen: B\n",
    "Jonathan Berg: C\n",
    "Hank Spinka: B\n",
    "Agnes Schneider: C\n",
    "Kimberly Green: A\n",
    "Lola-Rose Coates: C\n",
    "Rose Christiansen: C\n",
    "Shirley Hintz: C\n",
    "Hannah Bayer: B\n",
    "\"\"\"\n",
    "\n",
    "def grades():\n",
    "    gradeB_pattern = \"[\\w ]*:\\ B\"\n",
    "    gradeB_list = re.findall(gradeB_pattern, grade)\n",
    "    names_list = []\n",
    "    for elem in gradeB_list:\n",
    "        name = elem.split(\":\")[0]\n",
    "        names_list.append(name)\n",
    "    return names_list\n",
    "\n",
    "\n",
    "grades()\n",
    "###\n",
    "\n"
   ]
  }
 ],
 "metadata": {
  "kernelspec": {
   "display_name": "base",
   "language": "python",
   "name": "python3"
  },
  "language_info": {
   "codemirror_mode": {
    "name": "ipython",
    "version": 3
   },
   "file_extension": ".py",
   "mimetype": "text/x-python",
   "name": "python",
   "nbconvert_exporter": "python",
   "pygments_lexer": "ipython3",
   "version": "3.11.4"
  },
  "orig_nbformat": 4
 },
 "nbformat": 4,
 "nbformat_minor": 2
}
